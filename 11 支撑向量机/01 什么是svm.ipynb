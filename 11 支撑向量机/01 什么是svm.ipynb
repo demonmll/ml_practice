{
 "cells": [
  {
   "cell_type": "markdown",
   "metadata": {},
   "source": [
    "## 支撑向量机 （Support Vector Machine）\n",
    "> **既可以解决分类问题，也可以解决回归问题**\n",
    "\n",
    "> **不适定问题:多决策边界**\n",
    "\n",
    "> **<font color='red'>一个好的决策边界应该泛化能力强，距离样本点很远</font>**"
   ]
  },
  {
   "cell_type": "markdown",
   "metadata": {},
   "source": [
    "<img src='./picture/1-1.png'>\n",
    "<img src='./picture/1-2.png'>\n",
    "<img src='./picture/1-3.png'>\n",
    "<img src='./picture/1-4.png'>\n",
    "<img src='./picture/1-5.png'>\n"
   ]
  },
  {
   "cell_type": "code",
   "execution_count": null,
   "metadata": {},
   "outputs": [],
   "source": []
  }
 ],
 "metadata": {
  "kernelspec": {
   "display_name": "Python 3",
   "language": "python",
   "name": "python3"
  },
  "language_info": {
   "codemirror_mode": {
    "name": "ipython",
    "version": 3
   },
   "file_extension": ".py",
   "mimetype": "text/x-python",
   "name": "python",
   "nbconvert_exporter": "python",
   "pygments_lexer": "ipython3",
   "version": "3.6.4"
  }
 },
 "nbformat": 4,
 "nbformat_minor": 2
}
