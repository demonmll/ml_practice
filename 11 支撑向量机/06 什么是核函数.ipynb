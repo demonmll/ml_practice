{
 "cells": [
  {
   "cell_type": "markdown",
   "metadata": {},
   "source": [
    "## 核函数\n",
    "> **采用核函数，可以避免之前先对X进行扩展，再进行点乘。核函数可以直接进行点乘。**\n",
    "\n",
    "> **核函数并不是svm特有的，在最优化问题点乘中可以使用核函数**\n",
    "\n",
    "> **核函数就是一种简便算法**"
   ]
  },
  {
   "cell_type": "markdown",
   "metadata": {},
   "source": [
    "<img src='./picture/6-1.png'>\n",
    "<img src='./picture/6-3.png'>\n",
    "<img src='./picture/6-2.png'>\n"
   ]
  },
  {
   "cell_type": "markdown",
   "metadata": {},
   "source": [
    "## 多项式核函数\n",
    "> **先只展示二次多项式推导过程**\n",
    "\n",
    "> **扩展到多维空间**\n",
    "\n",
    "> **c（coef0） 和 degree 两个超参数**"
   ]
  },
  {
   "cell_type": "markdown",
   "metadata": {},
   "source": [
    "<img src='./picture/6-4.png'>\n",
    "<img src='./picture/6-5.png'>\n",
    "\n",
    "<img src='./picture/6-6.png'>\n",
    "\n"
   ]
  },
  {
   "cell_type": "code",
   "execution_count": null,
   "metadata": {},
   "outputs": [],
   "source": []
  }
 ],
 "metadata": {
  "kernelspec": {
   "display_name": "Python 3",
   "language": "python",
   "name": "python3"
  },
  "language_info": {
   "codemirror_mode": {
    "name": "ipython",
    "version": 3
   },
   "file_extension": ".py",
   "mimetype": "text/x-python",
   "name": "python",
   "nbconvert_exporter": "python",
   "pygments_lexer": "ipython3",
   "version": "3.6.4"
  }
 },
 "nbformat": 4,
 "nbformat_minor": 2
}
