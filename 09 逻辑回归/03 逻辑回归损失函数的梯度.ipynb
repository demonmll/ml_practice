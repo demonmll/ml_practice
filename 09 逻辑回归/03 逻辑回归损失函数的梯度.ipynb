{
 "cells": [
  {
   "cell_type": "markdown",
   "metadata": {},
   "source": [
    "## 求解损失函数的梯度\n",
    "> y^ 应该为 p^ 可能是打印错误"
   ]
  },
  {
   "cell_type": "markdown",
   "metadata": {},
   "source": [
    "<img src='./picture/3-1.png'>\n",
    "<img src='./picture/3-2.png'>\n",
    "<img src='./picture/3-3.png'>\n",
    "<img src='./picture/3-4.png'>\n",
    "<img src='./picture/3-5.png'>\n"
   ]
  },
  {
   "cell_type": "markdown",
   "metadata": {},
   "source": [
    "---"
   ]
  },
  {
   "cell_type": "markdown",
   "metadata": {},
   "source": [
    "<img src='./picture/3-6.png'>\n",
    "<img src='./picture/3-7.png'>\n",
    "<img src='./picture/3-8.png'>\n",
    "<img src='./picture/3-9.png'>\n",
    "\n"
   ]
  },
  {
   "cell_type": "code",
   "execution_count": null,
   "metadata": {},
   "outputs": [],
   "source": []
  }
 ],
 "metadata": {
  "kernelspec": {
   "display_name": "Python 3",
   "language": "python",
   "name": "python3"
  },
  "language_info": {
   "codemirror_mode": {
    "name": "ipython",
    "version": 3
   },
   "file_extension": ".py",
   "mimetype": "text/x-python",
   "name": "python",
   "nbconvert_exporter": "python",
   "pygments_lexer": "ipython3",
   "version": "3.6.4"
  }
 },
 "nbformat": 4,
 "nbformat_minor": 2
}
