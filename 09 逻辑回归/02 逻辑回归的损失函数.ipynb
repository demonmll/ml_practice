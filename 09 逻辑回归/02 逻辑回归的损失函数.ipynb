{
 "cells": [
  {
   "cell_type": "markdown",
   "metadata": {},
   "source": [
    "## 定义逻辑回归的损失函数 （评价算法预测偏离的程度）\n",
    "> **单个样例损失函数  const =-y * log (p^) - (1-y) * log(1-p^) 损失函数综合j (theta) = **\n",
    "\n",
    "> **是凸函数，可以使用梯度下降法求解**"
   ]
  },
  {
   "cell_type": "markdown",
   "metadata": {},
   "source": [
    "<img src='./picture/2-1.png'>\n",
    "<img src='./picture/2-2.png'>\n",
    "<img src='./picture/2-3.png'>\n",
    "<img src='./picture/2-4.png'>\n"
   ]
  },
  {
   "cell_type": "markdown",
   "metadata": {},
   "source": [
    "## 损失函数"
   ]
  },
  {
   "cell_type": "markdown",
   "metadata": {},
   "source": [
    "<img src='./picture/2-5.png'>\n",
    "<img src='./picture/2-6.png'>"
   ]
  },
  {
   "cell_type": "code",
   "execution_count": null,
   "metadata": {},
   "outputs": [],
   "source": []
  }
 ],
 "metadata": {
  "kernelspec": {
   "display_name": "Python 3",
   "language": "python",
   "name": "python3"
  },
  "language_info": {
   "codemirror_mode": {
    "name": "ipython",
    "version": 3
   },
   "file_extension": ".py",
   "mimetype": "text/x-python",
   "name": "python",
   "nbconvert_exporter": "python",
   "pygments_lexer": "ipython3",
   "version": "3.6.4"
  }
 },
 "nbformat": 4,
 "nbformat_minor": 2
}
