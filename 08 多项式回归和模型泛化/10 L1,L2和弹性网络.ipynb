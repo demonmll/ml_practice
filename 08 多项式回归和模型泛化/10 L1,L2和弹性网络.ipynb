{
 "cells": [
  {
   "cell_type": "markdown",
   "metadata": {},
   "source": [
    "## L1正则 L2正则\n",
    "> **通常先采用岭回归，比较准确**\n",
    "\n",
    "> **如果数据比较多，难于计算，便应该采用弹性网，这样可以去除一些特征**"
   ]
  },
  {
   "cell_type": "markdown",
   "metadata": {},
   "source": [
    "<img src='./picture/10-1.png'>\n",
    "<img src='./picture/10-2.png'>\n",
    "<img src='./picture/10-3.png'>\n",
    "<img src='./picture/10-4.png'>"
   ]
  },
  {
   "cell_type": "markdown",
   "metadata": {},
   "source": [
    "## 弹性网 Elastic Net\n",
    "> **只是多了一个超参数，表示两种正则化的比例**"
   ]
  },
  {
   "cell_type": "markdown",
   "metadata": {},
   "source": [
    "<img src='./picture/10-5.png'>"
   ]
  },
  {
   "cell_type": "markdown",
   "metadata": {},
   "source": [
    "## 回顾 模型泛化\n",
    "> **采用模型泛化不是为了在训练数据集上有好的效果，而是为了测试数据集（未知的数据集）上有好的效果**\n",
    "\n",
    "> **学习曲线，交叉验证，模型正则化**"
   ]
  },
  {
   "cell_type": "code",
   "execution_count": null,
   "metadata": {},
   "outputs": [],
   "source": []
  }
 ],
 "metadata": {
  "kernelspec": {
   "display_name": "Python 3",
   "language": "python",
   "name": "python3"
  },
  "language_info": {
   "codemirror_mode": {
    "name": "ipython",
    "version": 3
   },
   "file_extension": ".py",
   "mimetype": "text/x-python",
   "name": "python",
   "nbconvert_exporter": "python",
   "pygments_lexer": "ipython3",
   "version": "3.6.4"
  }
 },
 "nbformat": 4,
 "nbformat_minor": 2
}
