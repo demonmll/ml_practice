{
 "cells": [
  {
   "cell_type": "markdown",
   "metadata": {},
   "source": [
    "## 偏差bias 方差variance\n",
    "> **非参数学习都是高方差算法， 因为不对数据进行假设，对数据非常依赖**\n",
    "\n",
    "> **参数学习都是高偏差算法，因为对数据具有极强的假设**\n",
    "\n",
    "> **机器学习的主要挑战，来自于方差。解决方案：1）降低复杂度 2）降低维度 3）增加样本数 4）使用验证集 <font color='red'>5)模型正则化</font>**"
   ]
  },
  {
   "cell_type": "markdown",
   "metadata": {},
   "source": [
    "<img src='./picture/7-2.png'>\n",
    "<img src='./picture/7-1.png'>\n",
    "<img src='./picture/7-3.png'>\n",
    "<img src='./picture/7-4.png'>\n",
    "<img src='./picture/7-5.png'>\n",
    "<img src='./picture/7-6.png'>\n",
    "\n",
    "<img src='./picture/7-7.png'>\n",
    "\n"
   ]
  },
  {
   "cell_type": "markdown",
   "metadata": {},
   "source": []
  }
 ],
 "metadata": {
  "kernelspec": {
   "display_name": "Python 3",
   "language": "python",
   "name": "python3"
  },
  "language_info": {
   "codemirror_mode": {
    "name": "ipython",
    "version": 3
   },
   "file_extension": ".py",
   "mimetype": "text/x-python",
   "name": "python",
   "nbconvert_exporter": "python",
   "pygments_lexer": "ipython3",
   "version": "3.6.4"
  }
 },
 "nbformat": 4,
 "nbformat_minor": 2
}
