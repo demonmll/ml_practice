{
 "cells": [
  {
   "cell_type": "markdown",
   "metadata": {},
   "source": [
    "## 决策树的局限性\n",
    "> **1）决策边界都是与坐标轴平行的**\n",
    "\n",
    "> **2）对个别数据敏感， 删除某一个数据对于模型变化很大（非参数学习都是这样）**"
   ]
  },
  {
   "cell_type": "markdown",
   "metadata": {},
   "source": [
    "<img src='./picture/7-1.png'>\n",
    "<img src='./picture/7-2.png'>\n",
    "<img src='./picture/7-3.png'>\n",
    "<img src='./picture/7-4.png'>\n",
    "<img src='./picture/7-5.png'>"
   ]
  },
  {
   "cell_type": "code",
   "execution_count": null,
   "metadata": {},
   "outputs": [],
   "source": []
  }
 ],
 "metadata": {
  "kernelspec": {
   "display_name": "Python 3",
   "language": "python",
   "name": "python3"
  },
  "language_info": {
   "codemirror_mode": {
    "name": "ipython",
    "version": 3
   },
   "file_extension": ".py",
   "mimetype": "text/x-python",
   "name": "python",
   "nbconvert_exporter": "python",
   "pygments_lexer": "ipython3",
   "version": "3.6.4"
  }
 },
 "nbformat": 4,
 "nbformat_minor": 2
}
