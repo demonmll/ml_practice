{
 "cells": [
  {
   "cell_type": "markdown",
   "metadata": {},
   "source": [
    "## 数据归一化\n",
    "> **解决方案：将所有的数据映射到同一尺度**\n",
    "\n",
    "> **最值归一化（normalization）：把所有数据映射到0-1之间（将数据映射到xmax~xmin中）,适用于分布有明显边界的情况；受outlier影响较大。**\n",
    "\n",
    "> **均值方差归一化（standardization）：把所有数据归一到均为0，方差为1的分布中。适用于数据没有明显的边界；有可能存在极端数据值**"
   ]
  },
  {
   "cell_type": "markdown",
   "metadata": {},
   "source": [
    "<img src='./picture/7-1.png' style='width:500px;height:300px;float:middle'>"
   ]
  },
  {
   "cell_type": "markdown",
   "metadata": {},
   "source": [
    "## 最值归一化 Normalization\n",
    "> **调用array(dtype=float)强制类型转换**"
   ]
  },
  {
   "cell_type": "markdown",
   "metadata": {},
   "source": [
    "<img src='./picture/7-2.png' style='width:300px;height:180px;float:middle'>"
   ]
  },
  {
   "cell_type": "code",
   "execution_count": 1,
   "metadata": {},
   "outputs": [],
   "source": [
    "import numpy as np\n",
    "x = np.random.randint(0, 100, size =100)"
   ]
  },
  {
   "cell_type": "code",
   "execution_count": 2,
   "metadata": {},
   "outputs": [
    {
     "data": {
      "text/plain": [
       "array([0.36363636, 0.73737374, 0.32323232, 0.2020202 , 0.03030303,\n",
       "       0.24242424, 0.96969697, 0.91919192, 0.66666667, 0.05050505,\n",
       "       0.94949495, 0.67676768, 0.27272727, 0.67676768, 0.91919192,\n",
       "       0.95959596, 0.93939394, 0.55555556, 0.05050505, 0.72727273,\n",
       "       0.88888889, 0.43434343, 0.02020202, 0.81818182, 0.78787879,\n",
       "       0.64646465, 0.48484848, 0.8989899 , 1.        , 0.66666667,\n",
       "       0.86868687, 0.45454545, 0.49494949, 0.45454545, 0.26262626,\n",
       "       0.86868687, 0.70707071, 0.92929293, 0.15151515, 0.75757576,\n",
       "       0.24242424, 0.66666667, 0.04040404, 0.14141414, 0.05050505,\n",
       "       0.41414141, 0.2020202 , 0.55555556, 0.87878788, 0.41414141,\n",
       "       0.63636364, 1.        , 0.01010101, 0.23232323, 0.23232323,\n",
       "       0.13131313, 0.28282828, 0.21212121, 0.71717172, 0.81818182,\n",
       "       0.98989899, 0.60606061, 0.63636364, 0.39393939, 0.94949495,\n",
       "       0.91919192, 0.85858586, 0.24242424, 0.91919192, 0.        ,\n",
       "       0.04040404, 0.76767677, 0.26262626, 0.67676768, 0.54545455,\n",
       "       0.34343434, 0.53535354, 0.07070707, 0.43434343, 0.81818182,\n",
       "       0.71717172, 0.80808081, 0.17171717, 0.67676768, 0.3030303 ,\n",
       "       0.32323232, 0.94949495, 0.95959596, 0.85858586, 1.        ,\n",
       "       0.3030303 , 0.31313131, 0.92929293, 0.02020202, 0.24242424,\n",
       "       0.28282828, 0.07070707, 0.6969697 , 0.66666667, 0.6969697 ])"
      ]
     },
     "execution_count": 2,
     "metadata": {},
     "output_type": "execute_result"
    }
   ],
   "source": [
    "(x - np.min(x))/(np.max(x)-np.min(x)) ##是一个universal function，向量中的每个元素都减去一个值"
   ]
  },
  {
   "cell_type": "code",
   "execution_count": 10,
   "metadata": {},
   "outputs": [],
   "source": [
    "X = np.random.randint(0, 100, (50,2)) ##二维数组的最值归一化"
   ]
  },
  {
   "cell_type": "code",
   "execution_count": 4,
   "metadata": {},
   "outputs": [
    {
     "data": {
      "text/plain": [
       "array([[73, 84],\n",
       "       [63, 43],\n",
       "       [ 0, 70],\n",
       "       [64, 40],\n",
       "       [ 6, 37],\n",
       "       [42, 25],\n",
       "       [ 7, 99],\n",
       "       [72, 34],\n",
       "       [33,  2],\n",
       "       [38, 90]])"
      ]
     },
     "execution_count": 4,
     "metadata": {},
     "output_type": "execute_result"
    }
   ],
   "source": [
    "X[:10 , :]"
   ]
  },
  {
   "cell_type": "code",
   "execution_count": 5,
   "metadata": {},
   "outputs": [],
   "source": [
    "X = np.array(X, dtype=float) ##强制类型转换"
   ]
  },
  {
   "cell_type": "code",
   "execution_count": 6,
   "metadata": {},
   "outputs": [],
   "source": [
    "X[:, 0] = (X[:,0]-np.min(X[:,0]))/(np.max(X[:, 0])-np.min(X[:,0]))"
   ]
  },
  {
   "cell_type": "code",
   "execution_count": 7,
   "metadata": {},
   "outputs": [],
   "source": [
    "X[:, 1] = (X[:,1]-np.min(X[:,1]))/(np.max(X[:, 1])-np.min(X[:,1]))"
   ]
  },
  {
   "cell_type": "code",
   "execution_count": 8,
   "metadata": {},
   "outputs": [
    {
     "data": {
      "text/plain": [
       "array([[0.73737374, 0.84693878],\n",
       "       [0.63636364, 0.42857143],\n",
       "       [0.        , 0.70408163],\n",
       "       [0.64646465, 0.39795918],\n",
       "       [0.06060606, 0.36734694],\n",
       "       [0.42424242, 0.24489796],\n",
       "       [0.07070707, 1.        ],\n",
       "       [0.72727273, 0.33673469],\n",
       "       [0.33333333, 0.01020408],\n",
       "       [0.38383838, 0.90816327]])"
      ]
     },
     "execution_count": 8,
     "metadata": {},
     "output_type": "execute_result"
    }
   ],
   "source": [
    "X[:10, :]"
   ]
  },
  {
   "cell_type": "code",
   "execution_count": 9,
   "metadata": {},
   "outputs": [
    {
     "data": {
      "text/plain": [
       "0.5018181818181818"
      ]
     },
     "execution_count": 9,
     "metadata": {},
     "output_type": "execute_result"
    }
   ],
   "source": [
    "np.mean(X[:,0])"
   ]
  },
  {
   "cell_type": "markdown",
   "metadata": {},
   "source": [
    "## 均值方差归一化 Standardization"
   ]
  },
  {
   "cell_type": "markdown",
   "metadata": {},
   "source": [
    "<img src='./picture/7-3.png' style='width:300px;height:180px;float:middle'>"
   ]
  },
  {
   "cell_type": "code",
   "execution_count": 11,
   "metadata": {},
   "outputs": [],
   "source": [
    "X2 = np.random.randint(0, 100,(50,2))"
   ]
  },
  {
   "cell_type": "code",
   "execution_count": 13,
   "metadata": {},
   "outputs": [],
   "source": [
    "X2 = np.array(X2, dtype=float)"
   ]
  },
  {
   "cell_type": "code",
   "execution_count": 14,
   "metadata": {},
   "outputs": [],
   "source": [
    "X2[:,0] = (X2[:,0]-np.mean(X2[:,0]))/np.std(X2[:, 0])"
   ]
  },
  {
   "cell_type": "code",
   "execution_count": 15,
   "metadata": {},
   "outputs": [],
   "source": [
    "X2[:,1] = (X2[:,1]-np.mean(X2[:,1]))/np.std(X2[:, 1])"
   ]
  },
  {
   "cell_type": "code",
   "execution_count": 16,
   "metadata": {},
   "outputs": [
    {
     "data": {
      "text/plain": [
       "array([[ 0.83010409, -1.15585509],\n",
       "       [-1.67765346,  0.28810427],\n",
       "       [ 1.70236759, -1.12147511],\n",
       "       [ 0.10321785, -0.43387541],\n",
       "       [-0.76904565, -1.08709512],\n",
       "       [-0.95076721, -0.02131559],\n",
       "       [-1.67765346,  0.42562421],\n",
       "       [ 0.46666097,  0.25372429],\n",
       "       [-1.53227621, -0.81205524],\n",
       "       [ 1.4479574 ,  1.14760389]])"
      ]
     },
     "execution_count": 16,
     "metadata": {},
     "output_type": "execute_result"
    }
   ],
   "source": [
    "X2[:10,:]"
   ]
  },
  {
   "cell_type": "code",
   "execution_count": null,
   "metadata": {},
   "outputs": [],
   "source": []
  }
 ],
 "metadata": {
  "kernelspec": {
   "display_name": "Python 3",
   "language": "python",
   "name": "python3"
  },
  "language_info": {
   "codemirror_mode": {
    "name": "ipython",
    "version": 3
   },
   "file_extension": ".py",
   "mimetype": "text/x-python",
   "name": "python",
   "nbconvert_exporter": "python",
   "pygments_lexer": "ipython3",
   "version": "3.6.4"
  }
 },
 "nbformat": 4,
 "nbformat_minor": 2
}
