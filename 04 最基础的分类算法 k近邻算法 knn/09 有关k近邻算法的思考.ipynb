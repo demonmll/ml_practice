{
 "cells": [
  {
   "cell_type": "markdown",
   "metadata": {},
   "source": [
    "## k近邻算法\n",
    "> **解决分类问题**\n",
    "\n",
    "> **天然解决多分类问题**\n",
    "\n",
    "> **思想简单，效果强大**"
   ]
  },
  {
   "cell_type": "markdown",
   "metadata": {},
   "source": [
    "## 使用k近邻算法解决回归问题\n",
    "> **scikit-learn封装了kneighborsrsgressor这一个类，用于解决回归问题**"
   ]
  },
  {
   "cell_type": "markdown",
   "metadata": {},
   "source": [
    "<img src='./picture/9-1.png' style=\"weigh:400px;height:200px;float:middle\">"
   ]
  },
  {
   "cell_type": "markdown",
   "metadata": {},
   "source": [
    "## k近邻算法缺点\n",
    "> **效率低下--如果训练集有m个样本，n个特征，则预测每个新的数据，需要O（m*n）**\n",
    "\n",
    "> **高度数据相关**\n",
    "\n",
    "> **预测结果不具有可解释性**\n",
    "\n",
    "> **维数灾难 -- 随着维度的增加，看似相近的两个点之间的距离越来越大--**"
   ]
  },
  {
   "cell_type": "markdown",
   "metadata": {},
   "source": [
    "<img src='./picture/9-2.png' style=\"weigh:400px;height:200px;float:middle\">"
   ]
  },
  {
   "cell_type": "markdown",
   "metadata": {},
   "source": [
    "## 机器学习流程回顾"
   ]
  },
  {
   "cell_type": "markdown",
   "metadata": {},
   "source": [
    "<img src='./picture/9-3.png' style=\"weigh:600px;height:400px;float:middle\">"
   ]
  },
  {
   "cell_type": "code",
   "execution_count": null,
   "metadata": {},
   "outputs": [],
   "source": []
  }
 ],
 "metadata": {
  "kernelspec": {
   "display_name": "Python 3",
   "language": "python",
   "name": "python3"
  },
  "language_info": {
   "codemirror_mode": {
    "name": "ipython",
    "version": 3
   },
   "file_extension": ".py",
   "mimetype": "text/x-python",
   "name": "python",
   "nbconvert_exporter": "python",
   "pygments_lexer": "ipython3",
   "version": "3.6.4"
  }
 },
 "nbformat": 4,
 "nbformat_minor": 2
}
