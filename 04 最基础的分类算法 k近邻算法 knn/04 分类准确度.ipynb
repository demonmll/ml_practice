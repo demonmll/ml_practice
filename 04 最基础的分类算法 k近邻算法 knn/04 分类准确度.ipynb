{
 "cells": [
  {
   "cell_type": "markdown",
   "metadata": {},
   "source": [
    "# 判断机器学习算法的性能\n",
    "> **查看sclearn中数字辨别的数据库, 注意X 和 y 数据的调用方法**\n",
    "\n",
    "> **调用plt中的Imshow方法显示图形**"
   ]
  },
  {
   "cell_type": "markdown",
   "metadata": {},
   "source": [
    "<img src='./picture/4-1.png' style='width:500px;heigh:200px;float:left'>"
   ]
  },
  {
   "cell_type": "code",
   "execution_count": 1,
   "metadata": {},
   "outputs": [],
   "source": [
    "import numpy as np\n",
    "import matplotlib\n",
    "import matplotlib.pyplot as plt\n",
    "from sklearn import datasets"
   ]
  },
  {
   "cell_type": "code",
   "execution_count": 2,
   "metadata": {},
   "outputs": [],
   "source": [
    "digits = datasets.load_digits() ##传入手写数据"
   ]
  },
  {
   "cell_type": "code",
   "execution_count": 3,
   "metadata": {},
   "outputs": [
    {
     "data": {
      "text/plain": [
       "dict_keys(['data', 'target', 'target_names', 'images', 'DESCR'])"
      ]
     },
     "execution_count": 3,
     "metadata": {},
     "output_type": "execute_result"
    }
   ],
   "source": [
    "digits.keys() ##手写数据的内容"
   ]
  },
  {
   "cell_type": "code",
   "execution_count": 4,
   "metadata": {},
   "outputs": [
    {
     "name": "stdout",
     "output_type": "stream",
     "text": [
      "Optical Recognition of Handwritten Digits Data Set\n",
      "===================================================\n",
      "\n",
      "Notes\n",
      "-----\n",
      "Data Set Characteristics:\n",
      "    :Number of Instances: 5620\n",
      "    :Number of Attributes: 64\n",
      "    :Attribute Information: 8x8 image of integer pixels in the range 0..16.\n",
      "    :Missing Attribute Values: None\n",
      "    :Creator: E. Alpaydin (alpaydin '@' boun.edu.tr)\n",
      "    :Date: July; 1998\n",
      "\n",
      "This is a copy of the test set of the UCI ML hand-written digits datasets\n",
      "http://archive.ics.uci.edu/ml/datasets/Optical+Recognition+of+Handwritten+Digits\n",
      "\n",
      "The data set contains images of hand-written digits: 10 classes where\n",
      "each class refers to a digit.\n",
      "\n",
      "Preprocessing programs made available by NIST were used to extract\n",
      "normalized bitmaps of handwritten digits from a preprinted form. From a\n",
      "total of 43 people, 30 contributed to the training set and different 13\n",
      "to the test set. 32x32 bitmaps are divided into nonoverlapping blocks of\n",
      "4x4 and the number of on pixels are counted in each block. This generates\n",
      "an input matrix of 8x8 where each element is an integer in the range\n",
      "0..16. This reduces dimensionality and gives invariance to small\n",
      "distortions.\n",
      "\n",
      "For info on NIST preprocessing routines, see M. D. Garris, J. L. Blue, G.\n",
      "T. Candela, D. L. Dimmick, J. Geist, P. J. Grother, S. A. Janet, and C.\n",
      "L. Wilson, NIST Form-Based Handprint Recognition System, NISTIR 5469,\n",
      "1994.\n",
      "\n",
      "References\n",
      "----------\n",
      "  - C. Kaynak (1995) Methods of Combining Multiple Classifiers and Their\n",
      "    Applications to Handwritten Digit Recognition, MSc Thesis, Institute of\n",
      "    Graduate Studies in Science and Engineering, Bogazici University.\n",
      "  - E. Alpaydin, C. Kaynak (1998) Cascading Classifiers, Kybernetika.\n",
      "  - Ken Tang and Ponnuthurai N. Suganthan and Xi Yao and A. Kai Qin.\n",
      "    Linear dimensionalityreduction using relevance weighted LDA. School of\n",
      "    Electrical and Electronic Engineering Nanyang Technological University.\n",
      "    2005.\n",
      "  - Claudio Gentile. A New Approximate Maximal Margin Classification\n",
      "    Algorithm. NIPS. 2000.\n",
      "\n"
     ]
    }
   ],
   "source": [
    "print(digits.DESCR) ##一共5620个样本，64个特征（8*8像素点的深浅，0-16程度），10个label"
   ]
  },
  {
   "cell_type": "code",
   "execution_count": 5,
   "metadata": {},
   "outputs": [
    {
     "data": {
      "text/plain": [
       "(1797, 64)"
      ]
     },
     "execution_count": 5,
     "metadata": {},
     "output_type": "execute_result"
    }
   ],
   "source": [
    "X = digits.data ##1797个样本，64个特征\n",
    "X.shape"
   ]
  },
  {
   "cell_type": "code",
   "execution_count": 6,
   "metadata": {},
   "outputs": [
    {
     "data": {
      "text/plain": [
       "(1797,)"
      ]
     },
     "execution_count": 6,
     "metadata": {},
     "output_type": "execute_result"
    }
   ],
   "source": [
    "y = digits.target ##1797个样本-label向量\n",
    "y.shape"
   ]
  },
  {
   "cell_type": "code",
   "execution_count": 7,
   "metadata": {},
   "outputs": [
    {
     "data": {
      "text/plain": [
       "array([0, 1, 2, 3, 4, 5, 6, 7, 8, 9])"
      ]
     },
     "execution_count": 7,
     "metadata": {},
     "output_type": "execute_result"
    }
   ],
   "source": [
    "digits.target_names ##label的值"
   ]
  },
  {
   "cell_type": "code",
   "execution_count": 8,
   "metadata": {},
   "outputs": [
    {
     "data": {
      "text/plain": [
       "array([0, 1, 2, 3])"
      ]
     },
     "execution_count": 8,
     "metadata": {},
     "output_type": "execute_result"
    }
   ],
   "source": [
    "y[:4]"
   ]
  },
  {
   "cell_type": "code",
   "execution_count": 9,
   "metadata": {},
   "outputs": [
    {
     "data": {
      "text/plain": [
       "array([[ 0.,  0.,  5., 13.,  9.,  1.,  0.,  0.,  0.,  0., 13., 15., 10.,\n",
       "        15.,  5.,  0.,  0.,  3., 15.,  2.,  0., 11.,  8.,  0.,  0.,  4.,\n",
       "        12.,  0.,  0.,  8.,  8.,  0.,  0.,  5.,  8.,  0.,  0.,  9.,  8.,\n",
       "         0.,  0.,  4., 11.,  0.,  1., 12.,  7.,  0.,  0.,  2., 14.,  5.,\n",
       "        10., 12.,  0.,  0.,  0.,  0.,  6., 13., 10.,  0.,  0.,  0.],\n",
       "       [ 0.,  0.,  0., 12., 13.,  5.,  0.,  0.,  0.,  0.,  0., 11., 16.,\n",
       "         9.,  0.,  0.,  0.,  0.,  3., 15., 16.,  6.,  0.,  0.,  0.,  7.,\n",
       "        15., 16., 16.,  2.,  0.,  0.,  0.,  0.,  1., 16., 16.,  3.,  0.,\n",
       "         0.,  0.,  0.,  1., 16., 16.,  6.,  0.,  0.,  0.,  0.,  1., 16.,\n",
       "        16.,  6.,  0.,  0.,  0.,  0.,  0., 11., 16., 10.,  0.,  0.],\n",
       "       [ 0.,  0.,  0.,  4., 15., 12.,  0.,  0.,  0.,  0.,  3., 16., 15.,\n",
       "        14.,  0.,  0.,  0.,  0.,  8., 13.,  8., 16.,  0.,  0.,  0.,  0.,\n",
       "         1.,  6., 15., 11.,  0.,  0.,  0.,  1.,  8., 13., 15.,  1.,  0.,\n",
       "         0.,  0.,  9., 16., 16.,  5.,  0.,  0.,  0.,  0.,  3., 13., 16.,\n",
       "        16., 11.,  5.,  0.,  0.,  0.,  0.,  3., 11., 16.,  9.,  0.],\n",
       "       [ 0.,  0.,  7., 15., 13.,  1.,  0.,  0.,  0.,  8., 13.,  6., 15.,\n",
       "         4.,  0.,  0.,  0.,  2.,  1., 13., 13.,  0.,  0.,  0.,  0.,  0.,\n",
       "         2., 15., 11.,  1.,  0.,  0.,  0.,  0.,  0.,  1., 12., 12.,  1.,\n",
       "         0.,  0.,  0.,  0.,  0.,  1., 10.,  8.,  0.,  0.,  0.,  8.,  4.,\n",
       "         5., 14.,  9.,  0.,  0.,  0.,  7., 13., 13.,  9.,  0.,  0.]])"
      ]
     },
     "execution_count": 9,
     "metadata": {},
     "output_type": "execute_result"
    }
   ],
   "source": [
    "X[:4]"
   ]
  },
  {
   "cell_type": "code",
   "execution_count": 10,
   "metadata": {},
   "outputs": [],
   "source": [
    "some_digit = X[666]"
   ]
  },
  {
   "cell_type": "code",
   "execution_count": 11,
   "metadata": {},
   "outputs": [
    {
     "data": {
      "text/plain": [
       "0"
      ]
     },
     "execution_count": 11,
     "metadata": {},
     "output_type": "execute_result"
    }
   ],
   "source": [
    "y[666]"
   ]
  },
  {
   "cell_type": "code",
   "execution_count": 12,
   "metadata": {},
   "outputs": [
    {
     "data": {
      "image/png": "[encoded data removed]",
      "text/plain": [
       "<matplotlib.figure.Figure at 0x1c3ef6dea20>"
      ]
     },
     "metadata": {},
     "output_type": "display_data"
    }
   ],
   "source": [
    "some_digit_image = some_digit.reshape(8,8) ##通过reshape方法转换成8x8的矩阵\n",
    "plt.imshow(some_digit_image, cmap = matplotlib.cm.binary) ##调用Imshow方法，显示图像\n",
    "plt.show()"
   ]
  },
  {
   "cell_type": "markdown",
   "metadata": {},
   "source": [
    "## 自行封装算法查看kNN算法准确度的流程\n",
    "> **利用y_predict和y_test的结果比对，差看结果的准确度**\n",
    "\n",
    "> **封装score函数，直接传入测试数据集（x_test,y_test）查看算法准确度**\n"
   ]
  },
  {
   "cell_type": "code",
   "execution_count": 13,
   "metadata": {},
   "outputs": [],
   "source": [
    "import sys ##将包的路径导入\n",
    "sys.path.append(r'../') \n",
    "from ml_python.model_selection import train_test_split\n",
    "X_train, X_test, y_train, y_test = train_test_split(X, y)"
   ]
  },
  {
   "cell_type": "code",
   "execution_count": 14,
   "metadata": {},
   "outputs": [],
   "source": [
    "from ml_python.kNN_new import KNNClassifier\n",
    "my_knn_clf = KNNClassifier(k = 3)\n",
    "my_knn_clf.fit(X_train, y_train)\n",
    "y_predict = my_knn_clf.predict(X_test)"
   ]
  },
  {
   "cell_type": "code",
   "execution_count": 15,
   "metadata": {},
   "outputs": [
    {
     "data": {
      "text/plain": [
       "array([8, 9, 4, 0, 6, 9, 2, 3, 3, 3, 4, 5, 7, 4, 8, 3, 9, 5, 7, 3, 1, 6,\n",
       "       3, 4, 2, 7, 8, 4, 3, 7, 3, 7, 4, 7, 7, 5, 2, 1, 9, 8, 6, 3, 6, 6,\n",
       "       6, 2, 6, 2, 5, 5, 1, 9, 5, 6, 8, 2, 8, 4, 6, 5, 3, 6, 6, 7, 7, 4,\n",
       "       8, 3, 7, 7, 9, 1, 0, 9, 8, 5, 6, 6, 2, 1, 0, 5, 5, 2, 4, 2, 3, 5,\n",
       "       4, 1, 4, 1, 6, 4, 3, 0, 3, 7, 6, 8, 9, 7, 7, 6, 7, 3, 8, 3, 0, 4,\n",
       "       9, 0, 1, 0, 3, 0, 2, 3, 2, 7, 7, 5, 9, 2, 3, 3, 5, 5, 1, 4, 5, 2,\n",
       "       1, 5, 4, 2, 4, 6, 3, 2, 4, 8, 2, 3, 3, 8, 2, 4, 1, 5, 4, 9, 1, 4,\n",
       "       1, 7, 7, 3, 6, 4, 7, 2, 8, 2, 1, 9, 8, 7, 4, 3, 7, 3, 5, 3, 8, 8,\n",
       "       9, 4, 2, 7, 2, 2, 2, 4, 8, 3, 2, 6, 9, 3, 4, 7, 9, 1, 9, 8, 2, 1,\n",
       "       8, 3, 9, 4, 5, 4, 0, 5, 6, 6, 1, 0, 3, 4, 7, 8, 3, 6, 8, 7, 6, 7,\n",
       "       1, 2, 7, 1, 1, 5, 0, 5, 6, 9, 6, 1, 7, 1, 8, 0, 6, 5, 2, 5, 8, 6,\n",
       "       7, 3, 8, 8, 4, 7, 5, 8, 3, 6, 3, 7, 8, 6, 7, 0, 0, 4, 8, 0, 9, 2,\n",
       "       4, 2, 4, 5, 3, 5, 0, 2, 8, 5, 2, 2, 6, 8, 8, 0, 9, 5, 9, 1, 6, 2,\n",
       "       4, 9, 1, 3, 2, 7, 1, 9, 3, 5, 6, 6, 6, 8, 8, 7, 5, 2, 1, 7, 2, 5,\n",
       "       7, 1, 8, 4, 8, 5, 8, 4, 6, 7, 6, 3, 2, 8, 4, 6, 0, 6, 2, 2, 9, 1,\n",
       "       3, 9, 5, 1, 1, 8, 0, 5, 0, 9, 7, 9, 4, 4, 8, 0, 4, 6, 2, 9, 3, 0,\n",
       "       3, 0, 9, 5, 6, 6, 3])"
      ]
     },
     "execution_count": 15,
     "metadata": {},
     "output_type": "execute_result"
    }
   ],
   "source": [
    "y_predict"
   ]
  },
  {
   "cell_type": "code",
   "execution_count": 16,
   "metadata": {},
   "outputs": [
    {
     "data": {
      "text/plain": [
       "array([8, 9, 4, 0, 6, 9, 2, 3, 3, 3, 4, 5, 7, 4, 8, 2, 9, 5, 7, 3, 1, 6,\n",
       "       3, 4, 2, 7, 8, 4, 3, 7, 3, 7, 4, 7, 7, 5, 2, 1, 9, 8, 6, 3, 6, 6,\n",
       "       6, 2, 6, 2, 5, 5, 1, 9, 5, 6, 8, 2, 8, 4, 6, 5, 3, 6, 6, 7, 7, 4,\n",
       "       8, 9, 7, 7, 9, 1, 0, 9, 8, 5, 6, 6, 2, 1, 0, 5, 5, 2, 4, 2, 3, 5,\n",
       "       4, 1, 4, 1, 6, 4, 3, 0, 3, 7, 6, 8, 9, 7, 7, 6, 7, 3, 8, 3, 0, 4,\n",
       "       9, 0, 1, 0, 3, 0, 2, 3, 2, 7, 7, 5, 9, 2, 3, 3, 5, 5, 1, 4, 5, 2,\n",
       "       1, 5, 4, 2, 4, 6, 3, 2, 4, 8, 2, 3, 3, 8, 2, 4, 1, 5, 4, 9, 1, 4,\n",
       "       1, 7, 7, 3, 6, 4, 7, 2, 8, 2, 1, 9, 8, 7, 4, 3, 7, 3, 5, 3, 8, 8,\n",
       "       9, 4, 2, 7, 2, 2, 2, 4, 8, 3, 2, 6, 9, 3, 4, 7, 9, 1, 9, 8, 2, 1,\n",
       "       8, 3, 9, 4, 5, 4, 0, 5, 6, 6, 1, 0, 3, 4, 7, 8, 3, 6, 8, 7, 6, 7,\n",
       "       1, 2, 7, 1, 1, 5, 0, 5, 6, 9, 6, 1, 7, 1, 8, 0, 6, 5, 2, 5, 8, 6,\n",
       "       7, 3, 8, 8, 4, 7, 5, 8, 3, 6, 3, 7, 8, 6, 7, 0, 0, 4, 8, 0, 9, 2,\n",
       "       4, 2, 4, 5, 3, 5, 0, 2, 8, 5, 2, 2, 6, 8, 8, 0, 9, 5, 9, 8, 6, 2,\n",
       "       4, 9, 1, 3, 2, 7, 1, 9, 3, 5, 6, 6, 6, 8, 8, 7, 5, 2, 1, 7, 2, 5,\n",
       "       4, 8, 8, 4, 8, 5, 8, 4, 6, 7, 6, 3, 2, 8, 4, 6, 0, 6, 2, 2, 9, 1,\n",
       "       3, 9, 5, 1, 1, 8, 0, 5, 0, 9, 7, 9, 4, 4, 8, 0, 4, 6, 2, 9, 3, 0,\n",
       "       3, 0, 9, 5, 6, 6, 3])"
      ]
     },
     "execution_count": 16,
     "metadata": {},
     "output_type": "execute_result"
    }
   ],
   "source": [
    "y_test"
   ]
  },
  {
   "cell_type": "code",
   "execution_count": 17,
   "metadata": {},
   "outputs": [
    {
     "data": {
      "text/plain": [
       "0.9860724233983287"
      ]
     },
     "execution_count": 17,
     "metadata": {},
     "output_type": "execute_result"
    }
   ],
   "source": [
    "sum(y_predict == y_test)/len(y_test)"
   ]
  },
  {
   "cell_type": "code",
   "execution_count": 18,
   "metadata": {},
   "outputs": [
    {
     "data": {
      "text/plain": [
       "0.9860724233983287"
      ]
     },
     "execution_count": 18,
     "metadata": {},
     "output_type": "execute_result"
    }
   ],
   "source": [
    "from ml_python.metrics import accuracy_score\n",
    "\n",
    "accuracy_score(y_test, y_predict)"
   ]
  },
  {
   "cell_type": "code",
   "execution_count": 19,
   "metadata": {},
   "outputs": [
    {
     "data": {
      "text/plain": [
       "0.9860724233983287"
      ]
     },
     "execution_count": 19,
     "metadata": {},
     "output_type": "execute_result"
    }
   ],
   "source": [
    "my_knn_clf.score(X_test, y_test)"
   ]
  },
  {
   "cell_type": "markdown",
   "metadata": {},
   "source": [
    "## scikit-leatn中的accuracy_score"
   ]
  },
  {
   "cell_type": "code",
   "execution_count": 20,
   "metadata": {},
   "outputs": [],
   "source": [
    "from sklearn.model_selection import train_test_split\n",
    "X_train, X_test, y_train, y_test = train_test_split(X, y, test_size = 0.2, random_state=666)"
   ]
  },
  {
   "cell_type": "code",
   "execution_count": 22,
   "metadata": {},
   "outputs": [],
   "source": [
    "from sklearn.neighbors import KNeighborsClassifier\n",
    "\n",
    "knn_clf = KNeighborsClassifier(n_neighbors = 3)\n",
    "\n",
    "knn_clf.fit(X_train, y_train)\n",
    "\n",
    "y_predict = knn_clf.predict(X_test)\n"
   ]
  },
  {
   "cell_type": "code",
   "execution_count": 23,
   "metadata": {},
   "outputs": [],
   "source": [
    "from sklearn.metrics import accuracy_score"
   ]
  },
  {
   "cell_type": "code",
   "execution_count": 25,
   "metadata": {},
   "outputs": [
    {
     "data": {
      "text/plain": [
       "0.9888888888888889"
      ]
     },
     "execution_count": 25,
     "metadata": {},
     "output_type": "execute_result"
    }
   ],
   "source": [
    "accuracy_score(y_test, y_predict)"
   ]
  },
  {
   "cell_type": "code",
   "execution_count": 26,
   "metadata": {},
   "outputs": [
    {
     "data": {
      "text/plain": [
       "0.9888888888888889"
      ]
     },
     "execution_count": 26,
     "metadata": {},
     "output_type": "execute_result"
    }
   ],
   "source": [
    "knn_clf.score(X_test, y_test)"
   ]
  },
  {
   "cell_type": "code",
   "execution_count": null,
   "metadata": {},
   "outputs": [],
   "source": []
  }
 ],
 "metadata": {
  "kernelspec": {
   "display_name": "Python 3",
   "language": "python",
   "name": "python3"
  },
  "language_info": {
   "codemirror_mode": {
    "name": "ipython",
    "version": 3
   },
   "file_extension": ".py",
   "mimetype": "text/x-python",
   "name": "python",
   "nbconvert_exporter": "python",
   "pygments_lexer": "ipython3",
   "version": "3.6.4"
  }
 },
 "nbformat": 4,
 "nbformat_minor": 2
}
